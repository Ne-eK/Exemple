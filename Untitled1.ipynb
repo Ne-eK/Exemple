{
  "nbformat": 4,
  "nbformat_minor": 0,
  "metadata": {
    "colab": {
      "provenance": [],
      "authorship_tag": "ABX9TyOHc3eOHSE8yL1/tgn5bcuY",
      "include_colab_link": true
    },
    "kernelspec": {
      "name": "python3",
      "display_name": "Python 3"
    },
    "language_info": {
      "name": "python"
    }
  },
  "cells": [
    {
      "cell_type": "markdown",
      "metadata": {
        "id": "view-in-github",
        "colab_type": "text"
      },
      "source": [
        "<a href=\"https://colab.research.google.com/github/Ne-eK/Exemple/blob/main/Untitled1.ipynb\" target=\"_parent\"><img src=\"https://colab.research.google.com/assets/colab-badge.svg\" alt=\"Open In Colab\"/></a>"
      ]
    },
    {
      "cell_type": "markdown",
      "source": [
        "## Задание 1.\n"
      ],
      "metadata": {
        "id": "eqErOD5FatX0"
      }
    },
    {
      "cell_type": "code",
      "source": [],
      "metadata": {
        "id": "wuZcQIMVex_-"
      },
      "execution_count": null,
      "outputs": []
    }
  ]
}